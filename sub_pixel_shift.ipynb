{
 "cells": [
  {
   "attachments": {},
   "cell_type": "markdown",
   "metadata": {},
   "source": [
    "# Initialize Packages"
   ]
  },
  {
   "cell_type": "code",
   "execution_count": 1,
   "metadata": {},
   "outputs": [],
   "source": [
    "import torch\n",
    "import matplotlib.pyplot as plt\n",
    "import os\n",
    "import cv2\n",
    "from torch.utils.data import random_split\n",
    "import numpy as np\n",
    "import gc\n",
    "torch.cuda.empty_cache()\n",
    "gc.collect()\n",
    "import torch\n",
    "from torch import nn\n",
    "from tqdm import tqdm\n",
    "from skimage.registration import phase_cross_correlation"
   ]
  },
  {
   "cell_type": "code",
   "execution_count": 2,
   "metadata": {},
   "outputs": [],
   "source": [
    "def np_to_torch(np_array):\n",
    "    '''\n",
    "    Here i am converting numpy array into torch\n",
    "    '''\n",
    "    return torch.from_numpy(np_array).float()\n",
    "\n",
    "def torch_to_np(torch_array):\n",
    "    '''\n",
    "    Here i take torch tensor array, detach it from computational graph, make sure that it is on cpu as a numpy array\n",
    "    '''\n",
    "    return np.squeeze(torch_array.detach().cpu().numpy())\n",
    "\n",
    "def check_if_dir_existed(dir_name, create=False):\n",
    "\t'''\n",
    "    Fast check if directory exist\n",
    "    '''\n",
    "\tif not os.path.exists(dir_name):\n",
    "\t\tprint(f'folder \\t\\t: {dir_name} is not available')\n",
    "\t\tif create:\n",
    "\t\t\tos.mkdir(dir_name)\n",
    "\t\t\tprint(f'folder \\t\\t: {dir_name} created')\t\n",
    "\telse:\n",
    "\t\tprint(f'folder \\t\\t: {dir_name} is available')\n",
    "\n",
    "def trunc(a, x):\n",
    "    '''\n",
    "    Truncate value\n",
    "    '''\n",
    "    int1 = int(a * (10**x))/(10**x)\n",
    "    return float(int1)\n",
    "\n",
    "device  = torch.device(\"cuda:0\" if torch.cuda.is_available() else \"cpu\")"
   ]
  },
  {
   "attachments": {},
   "cell_type": "markdown",
   "metadata": {},
   "source": [
    "# Create Output Folder"
   ]
  },
  {
   "cell_type": "code",
   "execution_count": 3,
   "metadata": {},
   "outputs": [
    {
     "name": "stdout",
     "output_type": "stream",
     "text": [
      "folder \t\t: ./output is not available\n",
      "folder \t\t: ./output created\n",
      "folder \t\t: ./output/src is not available\n",
      "folder \t\t: ./output/src created\n",
      "folder \t\t: ./output/dst is not available\n",
      "folder \t\t: ./output/dst created\n",
      "folder \t\t: ./output/ml is not available\n",
      "folder \t\t: ./output/ml created\n"
     ]
    }
   ],
   "source": [
    "output_folder = './output'\n",
    "\n",
    "check_if_dir_existed(output_folder, True)\t\n",
    "# output folder for Sourced Images (original, not-processed)\n",
    "src_output = f'{output_folder}/src'\n",
    "# output folder for Destination Images (Created by simple Sub-Pixel Interpolation)\n",
    "dst_output = f'{output_folder}/dst'\n",
    "# output folder for Images Generated with simple CNN model\n",
    "ml_output = f'{output_folder}/ml'\n",
    "check_if_dir_existed(src_output, True)\n",
    "check_if_dir_existed(dst_output, True)\t\n",
    "check_if_dir_existed(ml_output, True)\t\t\n"
   ]
  },
  {
   "attachments": {},
   "cell_type": "markdown",
   "metadata": {},
   "source": [
    "# Prepare Dataset"
   ]
  },
  {
   "cell_type": "code",
   "execution_count": 4,
   "metadata": {},
   "outputs": [],
   "source": [
    "class CustomDataset(torch.utils.data.Dataset):\n",
    "\n",
    "    def __init__(self, image_dir) -> None:\n",
    "        super(CustomDataset, self).__init__()\n",
    "        self.data = []\n",
    "\n",
    "        for folder_name in os.listdir(image_dir):\n",
    "            if folder_name==\"src\":\n",
    "                for image_name in os.listdir(f\"{image_dir}/{folder_name}\"):\n",
    "                    if (image_name.endswith(\".png\")):\n",
    "                        src_img_name = f\"{image_dir}/{folder_name}/{image_name}\"\n",
    "                        dst_img_name = f\"{image_dir}/dst/s_{image_name}\"\n",
    "                        self.data.append([src_img_name, dst_img_name])\n",
    "\n",
    "    def __len__(self) -> int:\n",
    "        return len(self.data)\n",
    "\n",
    "    def load_image(self, index: int):\n",
    "        src_fname, dst_fname = self.data[index]\n",
    "        src_image = cv2.imread(src_fname, cv2.COLOR_BGR2GRAY)\n",
    "        dst_image = cv2.imread(dst_fname, cv2.COLOR_BGR2GRAY)\n",
    "        return src_image, dst_image\n",
    "\n",
    "    def __getitem__(self, index: int):\n",
    "        src_image, dst_image = self.load_image(index)\n",
    "        return np_to_torch(src_image), np_to_torch(dst_image)\n",
    "input_dataset = './dataset/'    \n",
    "dataset = CustomDataset(image_dir='./dataset/')"
   ]
  },
  {
   "attachments": {},
   "cell_type": "markdown",
   "metadata": {},
   "source": [
    "# Split Dataset. 80 pairs of images to train, 19 images to test"
   ]
  },
  {
   "cell_type": "code",
   "execution_count": 5,
   "metadata": {},
   "outputs": [
    {
     "name": "stdout",
     "output_type": "stream",
     "text": [
      "The length of Train data is: 80\n",
      "The length of Test data is: 19\n"
     ]
    }
   ],
   "source": [
    "train_data, test_data = random_split(dataset, [80, 19])\n",
    "print(\"The length of Train data is:\",len(train_data))\n",
    "print(\"The length of Test data is:\",len(test_data))\n",
    "\n",
    "#train_loader = torch.utils.data.DataLoader(train_data, batch_size=8)\n",
    "#print(f\"\\tNum. of batches: \\t\\t{len(train_loader)}\")\n",
    "#print(f\"\\tNum. of total examples: \\t{len(train_loader.dataset)}\")\n",
    "#check train data types\n",
    "#img0, img1 = next(iter(train_data))\n",
    "#print(torch.min(img0), torch.max(img0), img0.dtype)"
   ]
  },
  {
   "attachments": {},
   "cell_type": "markdown",
   "metadata": {},
   "source": [
    "# Fast Check"
   ]
  },
  {
   "cell_type": "code",
   "execution_count": 6,
   "metadata": {},
   "outputs": [
    {
     "data": {
      "text/plain": [
       "Text(0.5, 1.0, 'Destination image generated with Classical Interpolation Method')"
      ]
     },
     "execution_count": 6,
     "metadata": {},
     "output_type": "execute_result"
    },
    {
     "data": {
      "image/png": "[encoded data removed]",
      "text/plain": [
       "<Figure size 1440x720 with 2 Axes>"
      ]
     },
     "metadata": {
      "needs_background": "light"
     },
     "output_type": "display_data"
    }
   ],
   "source": [
    "src_image, dest_image = train_data[0][0], train_data[0][1]\n",
    "\n",
    "fi1, axs1 = plt.subplots(1, 2, figsize=(20, 10))\n",
    "axs1[0].imshow(src_image, cmap='gray'); \n",
    "axs1[0].set_title('Source image')\n",
    "axs1[1].imshow(dest_image, cmap='gray'); \n",
    "axs1[1].set_title('Destination image generated with Classical Interpolation Method')\n"
   ]
  },
  {
   "attachments": {},
   "cell_type": "markdown",
   "metadata": {},
   "source": [
    "# CNN Model. Image input / Image output"
   ]
  },
  {
   "cell_type": "code",
   "execution_count": 7,
   "metadata": {},
   "outputs": [],
   "source": [
    "torch.cuda.empty_cache()\n",
    "gc.collect()\n",
    "class CNN(nn.Module):\n",
    "    def __init__(self, num_channels):\n",
    "        super(CNN, self).__init__()\n",
    "        self.CNN = nn.Sequential(\n",
    "            nn.Conv2d(1,            num_channels, 3, padding=1), \n",
    "            nn.PReLU(),\n",
    "            nn.Conv2d(num_channels, num_channels, 3, padding=1), \n",
    "            nn.PReLU(),\n",
    "            nn.Conv2d(num_channels, num_channels, 3, padding=1), \n",
    "            nn.PReLU(),\n",
    "            nn.Conv2d(num_channels, 1,            3, padding=1), \n",
    "            nn.PReLU()\n",
    "        )\n",
    "        # No flatten layers\n",
    "    def forward(self, x):\n",
    "        x = torch.squeeze(self.CNN(x.unsqueeze(0).unsqueeze(0)))\n",
    "        return x\n",
    "cnn = CNN(1).to(device)"
   ]
  },
  {
   "attachments": {},
   "cell_type": "markdown",
   "metadata": {},
   "source": [
    "# Criterion and Optimizer"
   ]
  },
  {
   "cell_type": "code",
   "execution_count": 8,
   "metadata": {},
   "outputs": [],
   "source": [
    "loss_fun  = nn.MSELoss()\n",
    "optimizer = torch.optim.Adam(cnn.parameters(), lr=1e-3)"
   ]
  },
  {
   "cell_type": "markdown",
   "metadata": {},
   "source": [
    "# Train CNN to do sub-pixel offset (from src to dest) "
   ]
  },
  {
   "cell_type": "code",
   "execution_count": 9,
   "metadata": {},
   "outputs": [
    {
     "name": "stderr",
     "output_type": "stream",
     "text": [
      "0 in 200: 100%|██████████| 80/80 [00:03<00:00, 20.91it/s]\n"
     ]
    },
    {
     "name": "stdout",
     "output_type": "stream",
     "text": [
      "Epoch 0 in 200, Loss 444.1458740234375\n"
     ]
    },
    {
     "name": "stderr",
     "output_type": "stream",
     "text": [
      "1 in 200: 100%|██████████| 80/80 [00:03<00:00, 21.39it/s]\n",
      "2 in 200: 100%|██████████| 80/80 [00:03<00:00, 21.39it/s]\n",
      "3 in 200: 100%|██████████| 80/80 [00:03<00:00, 21.34it/s]\n",
      "4 in 200: 100%|██████████| 80/80 [00:03<00:00, 21.39it/s]\n",
      "5 in 200: 100%|██████████| 80/80 [00:03<00:00, 21.63it/s]\n",
      "6 in 200: 100%|██████████| 80/80 [00:03<00:00, 21.37it/s]\n",
      "7 in 200: 100%|██████████| 80/80 [00:03<00:00, 20.96it/s]\n",
      "8 in 200: 100%|██████████| 80/80 [00:03<00:00, 21.07it/s]\n",
      "9 in 200: 100%|██████████| 80/80 [00:03<00:00, 21.43it/s]\n",
      "10 in 200: 100%|██████████| 80/80 [00:03<00:00, 21.56it/s]\n",
      "11 in 200: 100%|██████████| 80/80 [00:03<00:00, 21.69it/s]\n",
      "12 in 200: 100%|██████████| 80/80 [00:03<00:00, 21.68it/s]\n",
      "13 in 200: 100%|██████████| 80/80 [00:03<00:00, 21.35it/s]\n",
      "14 in 200: 100%|██████████| 80/80 [00:03<00:00, 21.54it/s]\n",
      "15 in 200: 100%|██████████| 80/80 [00:03<00:00, 21.49it/s]\n",
      "16 in 200: 100%|██████████| 80/80 [00:03<00:00, 21.65it/s]\n",
      "17 in 200: 100%|██████████| 80/80 [00:03<00:00, 21.51it/s]\n",
      "18 in 200: 100%|██████████| 80/80 [00:03<00:00, 21.53it/s]\n",
      "19 in 200: 100%|██████████| 80/80 [00:03<00:00, 21.37it/s]\n",
      "20 in 200: 100%|██████████| 80/80 [00:03<00:00, 21.25it/s]\n"
     ]
    },
    {
     "name": "stdout",
     "output_type": "stream",
     "text": [
      "Epoch 20 in 200, Loss 17.61646270751953\n"
     ]
    },
    {
     "name": "stderr",
     "output_type": "stream",
     "text": [
      "21 in 200: 100%|██████████| 80/80 [00:03<00:00, 21.44it/s]\n",
      "22 in 200: 100%|██████████| 80/80 [00:03<00:00, 21.61it/s]\n",
      "23 in 200: 100%|██████████| 80/80 [00:03<00:00, 21.50it/s]\n",
      "24 in 200: 100%|██████████| 80/80 [00:03<00:00, 21.43it/s]\n",
      "25 in 200: 100%|██████████| 80/80 [00:03<00:00, 21.18it/s]\n",
      "26 in 200: 100%|██████████| 80/80 [00:03<00:00, 20.34it/s]\n",
      "27 in 200: 100%|██████████| 80/80 [00:03<00:00, 20.72it/s]\n",
      "28 in 200: 100%|██████████| 80/80 [00:03<00:00, 21.31it/s]\n",
      "29 in 200: 100%|██████████| 80/80 [00:03<00:00, 20.96it/s]\n",
      "30 in 200: 100%|██████████| 80/80 [00:03<00:00, 21.27it/s]\n",
      "31 in 200: 100%|██████████| 80/80 [00:03<00:00, 20.55it/s]\n",
      "32 in 200: 100%|██████████| 80/80 [00:03<00:00, 20.80it/s]\n",
      "33 in 200: 100%|██████████| 80/80 [00:03<00:00, 20.90it/s]\n",
      "34 in 200: 100%|██████████| 80/80 [00:03<00:00, 20.55it/s]\n",
      "35 in 200: 100%|██████████| 80/80 [00:04<00:00, 19.79it/s]\n",
      "36 in 200: 100%|██████████| 80/80 [00:03<00:00, 21.04it/s]\n",
      "37 in 200: 100%|██████████| 80/80 [00:03<00:00, 21.17it/s]\n",
      "38 in 200: 100%|██████████| 80/80 [00:03<00:00, 20.85it/s]\n",
      "39 in 200: 100%|██████████| 80/80 [00:03<00:00, 20.96it/s]\n",
      "40 in 200: 100%|██████████| 80/80 [00:03<00:00, 20.66it/s]\n"
     ]
    },
    {
     "name": "stdout",
     "output_type": "stream",
     "text": [
      "Epoch 40 in 200, Loss 1.3715214729309082\n"
     ]
    },
    {
     "name": "stderr",
     "output_type": "stream",
     "text": [
      "41 in 200: 100%|██████████| 80/80 [00:03<00:00, 20.83it/s]\n",
      "42 in 200: 100%|██████████| 80/80 [00:03<00:00, 21.06it/s]\n",
      "43 in 200: 100%|██████████| 80/80 [00:03<00:00, 20.61it/s]\n",
      "44 in 200: 100%|██████████| 80/80 [00:03<00:00, 20.75it/s]\n",
      "45 in 200: 100%|██████████| 80/80 [00:03<00:00, 20.39it/s]\n",
      "46 in 200: 100%|██████████| 80/80 [00:03<00:00, 21.09it/s]\n",
      "47 in 200: 100%|██████████| 80/80 [00:04<00:00, 19.71it/s]\n",
      "48 in 200: 100%|██████████| 80/80 [00:03<00:00, 20.19it/s]\n",
      "49 in 200: 100%|██████████| 80/80 [00:03<00:00, 20.83it/s]\n",
      "50 in 200: 100%|██████████| 80/80 [00:03<00:00, 21.00it/s]\n",
      "51 in 200: 100%|██████████| 80/80 [00:03<00:00, 21.17it/s]\n",
      "52 in 200: 100%|██████████| 80/80 [00:03<00:00, 21.30it/s]\n",
      "53 in 200: 100%|██████████| 80/80 [00:03<00:00, 20.21it/s]\n",
      "54 in 200: 100%|██████████| 80/80 [00:03<00:00, 20.59it/s]\n",
      "55 in 200: 100%|██████████| 80/80 [00:03<00:00, 20.60it/s]\n",
      "56 in 200: 100%|██████████| 80/80 [00:03<00:00, 20.76it/s]\n",
      "57 in 200: 100%|██████████| 80/80 [00:03<00:00, 21.28it/s]\n",
      "58 in 200: 100%|██████████| 80/80 [00:03<00:00, 21.31it/s]\n",
      "59 in 200: 100%|██████████| 80/80 [00:03<00:00, 21.15it/s]\n",
      "60 in 200: 100%|██████████| 80/80 [00:03<00:00, 21.03it/s]\n"
     ]
    },
    {
     "name": "stdout",
     "output_type": "stream",
     "text": [
      "Epoch 60 in 200, Loss 0.5936233401298523\n"
     ]
    },
    {
     "name": "stderr",
     "output_type": "stream",
     "text": [
      "61 in 200: 100%|██████████| 80/80 [00:03<00:00, 21.10it/s]\n",
      "62 in 200: 100%|██████████| 80/80 [00:03<00:00, 21.53it/s]\n",
      "63 in 200: 100%|██████████| 80/80 [00:03<00:00, 21.27it/s]\n",
      "64 in 200: 100%|██████████| 80/80 [00:03<00:00, 20.99it/s]\n",
      "65 in 200: 100%|██████████| 80/80 [00:03<00:00, 21.26it/s]\n",
      "66 in 200: 100%|██████████| 80/80 [00:03<00:00, 21.14it/s]\n",
      "67 in 200: 100%|██████████| 80/80 [00:03<00:00, 21.10it/s]\n",
      "68 in 200: 100%|██████████| 80/80 [00:03<00:00, 21.33it/s]\n",
      "69 in 200: 100%|██████████| 80/80 [00:03<00:00, 21.41it/s]\n",
      "70 in 200: 100%|██████████| 80/80 [00:03<00:00, 21.09it/s]\n",
      "71 in 200: 100%|██████████| 80/80 [00:03<00:00, 21.24it/s]\n",
      "72 in 200: 100%|██████████| 80/80 [00:03<00:00, 21.17it/s]\n",
      "73 in 200: 100%|██████████| 80/80 [00:03<00:00, 21.00it/s]\n",
      "74 in 200: 100%|██████████| 80/80 [00:03<00:00, 21.17it/s]\n",
      "75 in 200: 100%|██████████| 80/80 [00:03<00:00, 21.01it/s]\n",
      "76 in 200: 100%|██████████| 80/80 [00:03<00:00, 21.48it/s]\n",
      "77 in 200: 100%|██████████| 80/80 [00:03<00:00, 21.53it/s]\n",
      "78 in 200: 100%|██████████| 80/80 [00:03<00:00, 21.10it/s]\n",
      "79 in 200: 100%|██████████| 80/80 [00:03<00:00, 21.14it/s]\n",
      "80 in 200: 100%|██████████| 80/80 [00:03<00:00, 20.57it/s]\n"
     ]
    },
    {
     "name": "stdout",
     "output_type": "stream",
     "text": [
      "Epoch 80 in 200, Loss 0.4227010905742645\n"
     ]
    },
    {
     "name": "stderr",
     "output_type": "stream",
     "text": [
      "81 in 200: 100%|██████████| 80/80 [00:03<00:00, 20.05it/s]\n",
      "82 in 200: 100%|██████████| 80/80 [00:03<00:00, 20.17it/s]\n",
      "83 in 200: 100%|██████████| 80/80 [00:03<00:00, 20.68it/s]\n",
      "84 in 200: 100%|██████████| 80/80 [00:03<00:00, 21.64it/s]\n",
      "85 in 200: 100%|██████████| 80/80 [00:03<00:00, 21.42it/s]\n",
      "86 in 200: 100%|██████████| 80/80 [00:03<00:00, 21.53it/s]\n",
      "87 in 200: 100%|██████████| 80/80 [00:03<00:00, 21.42it/s]\n",
      "88 in 200: 100%|██████████| 80/80 [00:03<00:00, 20.88it/s]\n",
      "89 in 200: 100%|██████████| 80/80 [00:03<00:00, 21.65it/s]\n",
      "90 in 200: 100%|██████████| 80/80 [00:03<00:00, 21.08it/s]\n",
      "91 in 200: 100%|██████████| 80/80 [00:03<00:00, 21.24it/s]\n",
      "92 in 200: 100%|██████████| 80/80 [00:03<00:00, 21.34it/s]\n",
      "93 in 200: 100%|██████████| 80/80 [00:03<00:00, 20.31it/s]\n",
      "94 in 200: 100%|██████████| 80/80 [00:03<00:00, 21.34it/s]\n",
      "95 in 200: 100%|██████████| 80/80 [00:03<00:00, 20.97it/s]\n",
      "96 in 200: 100%|██████████| 80/80 [00:03<00:00, 21.27it/s]\n",
      "97 in 200: 100%|██████████| 80/80 [00:03<00:00, 21.24it/s]\n",
      "98 in 200: 100%|██████████| 80/80 [00:03<00:00, 21.28it/s]\n",
      "99 in 200: 100%|██████████| 80/80 [00:03<00:00, 21.25it/s]\n",
      "100 in 200: 100%|██████████| 80/80 [00:03<00:00, 20.47it/s]\n"
     ]
    },
    {
     "name": "stdout",
     "output_type": "stream",
     "text": [
      "Epoch 100 in 200, Loss 0.32319626212120056\n"
     ]
    },
    {
     "name": "stderr",
     "output_type": "stream",
     "text": [
      "101 in 200: 100%|██████████| 80/80 [00:03<00:00, 21.02it/s]\n",
      "102 in 200: 100%|██████████| 80/80 [00:03<00:00, 20.89it/s]\n",
      "103 in 200: 100%|██████████| 80/80 [00:03<00:00, 21.35it/s]\n",
      "104 in 200: 100%|██████████| 80/80 [00:03<00:00, 21.76it/s]\n",
      "105 in 200: 100%|██████████| 80/80 [00:03<00:00, 21.05it/s]\n",
      "106 in 200: 100%|██████████| 80/80 [00:03<00:00, 21.08it/s]\n",
      "107 in 200: 100%|██████████| 80/80 [00:03<00:00, 21.20it/s]\n",
      "108 in 200: 100%|██████████| 80/80 [00:03<00:00, 21.45it/s]\n",
      "109 in 200: 100%|██████████| 80/80 [00:03<00:00, 21.44it/s]\n",
      "110 in 200: 100%|██████████| 80/80 [00:03<00:00, 21.32it/s]\n",
      "111 in 200: 100%|██████████| 80/80 [00:03<00:00, 21.16it/s]\n",
      "112 in 200: 100%|██████████| 80/80 [00:03<00:00, 21.33it/s]\n",
      "113 in 200: 100%|██████████| 80/80 [00:03<00:00, 21.18it/s]\n",
      "114 in 200: 100%|██████████| 80/80 [00:03<00:00, 21.52it/s]\n",
      "115 in 200: 100%|██████████| 80/80 [00:03<00:00, 21.34it/s]\n",
      "116 in 200: 100%|██████████| 80/80 [00:03<00:00, 20.61it/s]\n",
      "117 in 200: 100%|██████████| 80/80 [00:03<00:00, 21.16it/s]\n",
      "118 in 200: 100%|██████████| 80/80 [00:03<00:00, 21.18it/s]\n",
      "119 in 200: 100%|██████████| 80/80 [00:03<00:00, 21.17it/s]\n",
      "120 in 200: 100%|██████████| 80/80 [00:03<00:00, 21.21it/s]\n"
     ]
    },
    {
     "name": "stdout",
     "output_type": "stream",
     "text": [
      "Epoch 120 in 200, Loss 0.26272448897361755\n"
     ]
    },
    {
     "name": "stderr",
     "output_type": "stream",
     "text": [
      "121 in 200: 100%|██████████| 80/80 [00:03<00:00, 21.28it/s]\n",
      "122 in 200: 100%|██████████| 80/80 [00:03<00:00, 20.98it/s]\n",
      "123 in 200: 100%|██████████| 80/80 [00:03<00:00, 20.26it/s]\n",
      "124 in 200: 100%|██████████| 80/80 [00:03<00:00, 20.23it/s]\n",
      "125 in 200: 100%|██████████| 80/80 [00:03<00:00, 20.80it/s]\n",
      "126 in 200: 100%|██████████| 80/80 [00:03<00:00, 21.79it/s]\n",
      "127 in 200: 100%|██████████| 80/80 [00:03<00:00, 21.23it/s]\n",
      "128 in 200: 100%|██████████| 80/80 [00:03<00:00, 20.82it/s]\n",
      "129 in 200: 100%|██████████| 80/80 [00:03<00:00, 21.16it/s]\n",
      "130 in 200: 100%|██████████| 80/80 [00:03<00:00, 21.49it/s]\n",
      "131 in 200: 100%|██████████| 80/80 [00:03<00:00, 21.23it/s]\n",
      "132 in 200: 100%|██████████| 80/80 [00:03<00:00, 21.39it/s]\n",
      "133 in 200: 100%|██████████| 80/80 [00:03<00:00, 20.41it/s]\n",
      "134 in 200: 100%|██████████| 80/80 [00:03<00:00, 21.16it/s]\n",
      "135 in 200: 100%|██████████| 80/80 [00:03<00:00, 21.18it/s]\n",
      "136 in 200: 100%|██████████| 80/80 [00:03<00:00, 21.23it/s]\n",
      "137 in 200: 100%|██████████| 80/80 [00:03<00:00, 21.04it/s]\n",
      "138 in 200: 100%|██████████| 80/80 [00:03<00:00, 21.54it/s]\n",
      "139 in 200: 100%|██████████| 80/80 [00:03<00:00, 21.12it/s]\n",
      "140 in 200: 100%|██████████| 80/80 [00:03<00:00, 21.19it/s]\n"
     ]
    },
    {
     "name": "stdout",
     "output_type": "stream",
     "text": [
      "Epoch 140 in 200, Loss 0.21560388803482056\n"
     ]
    },
    {
     "name": "stderr",
     "output_type": "stream",
     "text": [
      "141 in 200: 100%|██████████| 80/80 [00:03<00:00, 21.41it/s]\n",
      "142 in 200: 100%|██████████| 80/80 [00:03<00:00, 21.44it/s]\n",
      "143 in 200: 100%|██████████| 80/80 [00:03<00:00, 21.35it/s]\n",
      "144 in 200: 100%|██████████| 80/80 [00:03<00:00, 20.27it/s]\n",
      "145 in 200: 100%|██████████| 80/80 [00:03<00:00, 20.87it/s]\n",
      "146 in 200: 100%|██████████| 80/80 [00:03<00:00, 21.08it/s]\n",
      "147 in 200: 100%|██████████| 80/80 [00:03<00:00, 21.14it/s]\n",
      "148 in 200: 100%|██████████| 80/80 [00:03<00:00, 21.17it/s]\n",
      "149 in 200: 100%|██████████| 80/80 [00:03<00:00, 21.32it/s]\n",
      "150 in 200: 100%|██████████| 80/80 [00:03<00:00, 21.24it/s]\n",
      "151 in 200: 100%|██████████| 80/80 [00:03<00:00, 21.15it/s]\n",
      "152 in 200: 100%|██████████| 80/80 [00:03<00:00, 20.78it/s]\n",
      "153 in 200: 100%|██████████| 80/80 [00:03<00:00, 20.75it/s]\n",
      "154 in 200: 100%|██████████| 80/80 [00:03<00:00, 21.33it/s]\n",
      "155 in 200: 100%|██████████| 80/80 [00:03<00:00, 20.57it/s]\n",
      "156 in 200: 100%|██████████| 80/80 [00:04<00:00, 19.57it/s]\n",
      "157 in 200: 100%|██████████| 80/80 [00:03<00:00, 20.22it/s]\n",
      "158 in 200: 100%|██████████| 80/80 [00:03<00:00, 20.96it/s]\n",
      "159 in 200: 100%|██████████| 80/80 [00:03<00:00, 21.27it/s]\n",
      "160 in 200: 100%|██████████| 80/80 [00:03<00:00, 20.82it/s]\n"
     ]
    },
    {
     "name": "stdout",
     "output_type": "stream",
     "text": [
      "Epoch 160 in 200, Loss 0.18032652139663696\n"
     ]
    },
    {
     "name": "stderr",
     "output_type": "stream",
     "text": [
      "161 in 200: 100%|██████████| 80/80 [00:03<00:00, 21.33it/s]\n",
      "162 in 200: 100%|██████████| 80/80 [00:03<00:00, 21.01it/s]\n",
      "163 in 200: 100%|██████████| 80/80 [00:03<00:00, 21.30it/s]\n",
      "164 in 200: 100%|██████████| 80/80 [00:03<00:00, 21.38it/s]\n",
      "165 in 200: 100%|██████████| 80/80 [00:03<00:00, 21.34it/s]\n",
      "166 in 200: 100%|██████████| 80/80 [00:03<00:00, 21.16it/s]\n",
      "167 in 200: 100%|██████████| 80/80 [00:03<00:00, 21.01it/s]\n",
      "168 in 200: 100%|██████████| 80/80 [00:03<00:00, 21.21it/s]\n",
      "169 in 200: 100%|██████████| 80/80 [00:03<00:00, 21.54it/s]\n",
      "170 in 200: 100%|██████████| 80/80 [00:03<00:00, 21.48it/s]\n",
      "171 in 200: 100%|██████████| 80/80 [00:03<00:00, 21.02it/s]\n",
      "172 in 200: 100%|██████████| 80/80 [00:03<00:00, 21.10it/s]\n",
      "173 in 200: 100%|██████████| 80/80 [00:03<00:00, 20.97it/s]\n",
      "174 in 200: 100%|██████████| 80/80 [00:03<00:00, 21.43it/s]\n",
      "175 in 200: 100%|██████████| 80/80 [00:03<00:00, 21.34it/s]\n",
      "176 in 200: 100%|██████████| 80/80 [00:03<00:00, 21.46it/s]\n",
      "177 in 200: 100%|██████████| 80/80 [00:03<00:00, 21.12it/s]\n",
      "178 in 200: 100%|██████████| 80/80 [00:03<00:00, 21.32it/s]\n",
      "179 in 200: 100%|██████████| 80/80 [00:03<00:00, 21.51it/s]\n",
      "180 in 200: 100%|██████████| 80/80 [00:03<00:00, 21.33it/s]\n"
     ]
    },
    {
     "name": "stdout",
     "output_type": "stream",
     "text": [
      "Epoch 180 in 200, Loss 0.1568385660648346\n"
     ]
    },
    {
     "name": "stderr",
     "output_type": "stream",
     "text": [
      "181 in 200: 100%|██████████| 80/80 [00:03<00:00, 21.39it/s]\n",
      "182 in 200: 100%|██████████| 80/80 [00:03<00:00, 21.44it/s]\n",
      "183 in 200: 100%|██████████| 80/80 [00:03<00:00, 21.47it/s]\n",
      "184 in 200: 100%|██████████| 80/80 [00:03<00:00, 21.11it/s]\n",
      "185 in 200: 100%|██████████| 80/80 [00:03<00:00, 21.49it/s]\n",
      "186 in 200: 100%|██████████| 80/80 [00:03<00:00, 21.44it/s]\n",
      "187 in 200: 100%|██████████| 80/80 [00:03<00:00, 21.32it/s]\n",
      "188 in 200: 100%|██████████| 80/80 [00:03<00:00, 21.24it/s]\n",
      "189 in 200: 100%|██████████| 80/80 [00:03<00:00, 21.20it/s]\n",
      "190 in 200: 100%|██████████| 80/80 [00:03<00:00, 21.28it/s]\n",
      "191 in 200: 100%|██████████| 80/80 [00:03<00:00, 21.44it/s]\n",
      "192 in 200: 100%|██████████| 80/80 [00:03<00:00, 21.36it/s]\n",
      "193 in 200: 100%|██████████| 80/80 [00:03<00:00, 21.02it/s]\n",
      "194 in 200: 100%|██████████| 80/80 [00:03<00:00, 21.28it/s]\n",
      "195 in 200: 100%|██████████| 80/80 [00:03<00:00, 21.48it/s]\n",
      "196 in 200: 100%|██████████| 80/80 [00:03<00:00, 21.01it/s]\n",
      "197 in 200: 100%|██████████| 80/80 [00:03<00:00, 21.55it/s]\n",
      "198 in 200: 100%|██████████| 80/80 [00:03<00:00, 21.55it/s]\n",
      "199 in 200: 100%|██████████| 80/80 [00:03<00:00, 20.60it/s]\n"
     ]
    },
    {
     "data": {
      "image/png": "[encoded data removed]",
      "text/plain": [
       "<Figure size 432x288 with 1 Axes>"
      ]
     },
     "metadata": {
      "needs_background": "light"
     },
     "output_type": "display_data"
    }
   ],
   "source": [
    "epochs = 200\n",
    "train_loss = []\n",
    "fig = plt.figure()\n",
    "ax0 = fig.add_subplot(1,1,1)\n",
    "\n",
    "for epoch in range(epochs):\n",
    "    correct=0\n",
    "    for i in tqdm(range(len(train_data)),desc = f'{epoch} in {epochs}'):\n",
    "        src_image, dst_image = train_data[i]\n",
    "        src_image  =src_image.to(device)\n",
    "        dst_image  =dst_image.to(device)\n",
    "        output = cnn(src_image).to(device)\n",
    "        loss = loss_fun(output, dst_image)\n",
    "        optimizer.zero_grad()           \n",
    "        loss.backward()       \n",
    "        optimizer.step()                \n",
    "        train_loss.append(loss.item())\n",
    "        del src_image\n",
    "        del dst_image\n",
    "        \n",
    "    if epoch % 20 == 0:\n",
    "        print(f\"Epoch {epoch} in {epochs}, Loss {loss.item()}\")\n",
    "        ax0.plot(train_loss[19:-1])\n",
    "        ax0.set_title('Loss %f, epoch %d' % (train_loss[-1],epoch));   \n",
    "\n",
    "torch.save({'state_dict': cnn.state_dict()}, \"shift.bin\")"
   ]
  },
  {
   "attachments": {},
   "cell_type": "markdown",
   "metadata": {},
   "source": [
    "Test"
   ]
  },
  {
   "cell_type": "code",
   "execution_count": 10,
   "metadata": {},
   "outputs": [
    {
     "name": "stderr",
     "output_type": "stream",
     "text": [
      "tqdm() Progress Bar: 100%|██████████| 19/19 [00:41<00:00,  2.20s/it]\n"
     ]
    }
   ],
   "source": [
    "cnn.to('cpu')\n",
    "detected_shift = []\n",
    "S0, S1, S2, MSE = [], [], [], []\n",
    "with torch.no_grad():\n",
    "    test_loss = 0\n",
    "    i = 0\n",
    "    for i in tqdm(range(len(test_data)),desc = 'tqdm() Progress Bar'):\n",
    "        src_image, dst_image = test_data[i]\n",
    "        src_image  =src_image.to(\"cpu\")\n",
    "        dst_image  =dst_image.to(\"cpu\")\n",
    "        output = cnn(src_image)\n",
    "        loss = loss_fun(output, dst_image)\n",
    "        test_loss += loss.item()\n",
    "        cv2.imwrite(f'{src_output}/{i}.png', torch_to_np(src_image))\n",
    "        cv2.imwrite(f'{dst_output}/s_{i}.png', torch_to_np(dst_image))\n",
    "        cv2.imwrite(f'{ml_output}/ml_{i}.png', torch_to_np(output))\n",
    "        s0, e, dif = phase_cross_correlation(torch_to_np(src_image), torch_to_np(dst_image), upsample_factor=1000)\n",
    "        mse0 = np.mean((torch_to_np(dst_image) - torch_to_np(output)) ** 2, dtype=np.float64)\n",
    "        s1, e, dif = phase_cross_correlation(torch_to_np(src_image), torch_to_np(output), upsample_factor=1000)\n",
    "        s2, e, dif = phase_cross_correlation(torch_to_np(dst_image), torch_to_np(output), upsample_factor=1000)\n",
    "        S0.append(np.mean(s0))\n",
    "        S1.append(np.mean(s1))\n",
    "        S2.append(np.mean(s2))\n",
    "        MSE.append(np.mean(mse0))\n",
    "        i = i +1"
   ]
  },
  {
   "cell_type": "code",
   "execution_count": 12,
   "metadata": {},
   "outputs": [
    {
     "data": {
      "text/plain": [
       "<matplotlib.legend.Legend at 0x7f6f2046b5b0>"
      ]
     },
     "execution_count": 12,
     "metadata": {},
     "output_type": "execute_result"
    },
    {
     "data": {
      "image/png": "[encoded data removed]",
      "text/plain": [
       "<Figure size 1440x720 with 5 Axes>"
      ]
     },
     "metadata": {
      "needs_background": "light"
     },
     "output_type": "display_data"
    }
   ],
   "source": [
    "fig = plt.figure(figsize=(20, 10))\n",
    "\n",
    "ax0 = fig.add_subplot(2,3,1)\n",
    "ax0.set_title(f\"Sourced Image\")\n",
    "ax1 = fig.add_subplot(2,3,2)\n",
    "ax1.set_title(f\"Shifted with Interpolation Method\")\n",
    "ax2 = fig.add_subplot(2,3,3)\n",
    "ax2.set_title(f\"Shifted with CNN\")\n",
    "ax3 = fig.add_subplot(2,3,4)\n",
    "ax3.set_title(f\"Accuracy\")\n",
    "\n",
    "ax4 = fig.add_subplot(2,3,5)\n",
    "ax4.set_title(f\"MSE\")\n",
    "\n",
    "\n",
    "src_image = cv2.imread('./output/1.png', cv2.COLOR_BGR2GRAY)\n",
    "dst_image = cv2.imread('./output/s_1.png', cv2.COLOR_BGR2GRAY)\n",
    "ml_image = cv2.imread('./output/ml_1.png', cv2.COLOR_BGR2GRAY)\n",
    "ax0.imshow(src_image, origin='lower', cmap='gray')\n",
    "ax1.imshow(dst_image, origin='lower', cmap='gray')\n",
    "ax2.imshow(ml_image, origin='lower', cmap='gray')\n",
    "\n",
    "ax3.plot(S0, '-*', label = f'Sourced vs Dest images {trunc(np.mean(S0),2)}')\n",
    "ax3.plot(S1, '-o', label = f'Sourced vs CNN images {trunc(np.mean(S1),2)}')\n",
    "ax3.plot(S2, '-+', label = f'Dest vs CNN images {trunc(np.mean(S2),2)}')\n",
    "ax3.set_ylabel('Detected Pixel shift (dX+dY/2)')\n",
    "ax3.set_xlabel('Image number in Test dataset')\n",
    "ax3.legend()\n",
    "ax4.plot(MSE, '-*',label = f'MSE Dest vs CNN images {trunc(np.mean(MSE),2)}')\n",
    "ax4.set_xlabel('Image number in Test dataset')\n",
    "\n",
    "ax4.legend()"
   ]
  },
  {
   "cell_type": "code",
   "execution_count": 13,
   "metadata": {},
   "outputs": [
    {
     "data": {
      "text/plain": [
       "<matplotlib.image.AxesImage at 0x7f6f20262640>"
      ]
     },
     "execution_count": 13,
     "metadata": {},
     "output_type": "execute_result"
    },
    {
     "data": {
      "image/png": "[encoded data removed]",
      "text/plain": [
       "<Figure size 1440x432 with 3 Axes>"
      ]
     },
     "metadata": {
      "needs_background": "light"
     },
     "output_type": "display_data"
    }
   ],
   "source": [
    "fig = plt.figure(figsize=(20, 6))\n",
    "\n",
    "ax0 = fig.add_subplot(1,3,1)\n",
    "ax0.set_title(f\"Sourced Image (Cropped)\")\n",
    "ax1 = fig.add_subplot(1,3,2)\n",
    "ax1.set_title(f\"Shifted with Interpolation Method (Cropped)\")\n",
    "ax2 = fig.add_subplot(1,3,3)\n",
    "ax2.set_title(f\"Shifted with CNN (Cropped)\")\n",
    "\n",
    "x, y, h, w  = 1570, 1000, 16, 16\n",
    "ax0.imshow(src_image[y:y+h, x:x+w], origin='lower', cmap='gray')\n",
    "ax1.imshow(dst_image[y:y+h, x:x+w], origin='lower', cmap='gray')\n",
    "ax2.imshow(ml_image[y:y+h, x:x+w], origin='lower', cmap='gray')"
   ]
  },
  {
   "cell_type": "code",
   "execution_count": null,
   "metadata": {},
   "outputs": [],
   "source": []
  }
 ],
 "metadata": {
  "kernelspec": {
   "display_name": "base",
   "language": "python",
   "name": "python3"
  },
  "language_info": {
   "codemirror_mode": {
    "name": "ipython",
    "version": 3
   },
   "file_extension": ".py",
   "mimetype": "text/x-python",
   "name": "python",
   "nbconvert_exporter": "python",
   "pygments_lexer": "ipython3",
   "version": "3.9.12"
  },
  "orig_nbformat": 4
 },
 "nbformat": 4,
 "nbformat_minor": 2
}
